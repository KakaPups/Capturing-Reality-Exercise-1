{
 "cells": [
  {
   "cell_type": "code",
   "execution_count": 1,
   "metadata": {},
   "outputs": [
    {
     "name": "stdout",
     "output_type": "stream",
     "text": [
      "Jupyter environment detected. Enabling Open3D WebVisualizer.\n",
      "[Open3D INFO] WebRTC GUI backend enabled.\n",
      "[Open3D INFO] WebRTCWindowSystem: HTTP handshake server disabled.\n",
      "Load a ply point cloud, print it, and render it\n",
      "PointCloud with 196133 points.\n",
      "[[0.65234375 0.84686458 2.37890625]\n",
      " [0.65234375 0.83984375 2.38430572]\n",
      " [0.66737998 0.83984375 2.37890625]\n",
      " ...\n",
      " [2.00839925 2.39453125 1.88671875]\n",
      " [2.00390625 2.39488506 1.88671875]\n",
      " [2.00390625 2.39453125 1.88793314]]\n"
     ]
    }
   ],
   "source": [
    "import open3d as o3d\n",
    "import cv2\n",
    "import numpy as np\n",
    "from matplotlib import pyplot as plt\n",
    "# import open3d_example as o3dtut\n",
    "\n",
    "# import open3d_tutorial as o3dtut\n",
    "\n",
    "#from open3d.geometry import sample_points_poisson_disk\n",
    "\n",
    "\n",
    "print(\"Load a ply point cloud, print it, and render it\")\n",
    "ply_point_cloud = o3d.data.PLYPointCloud()\n",
    "pcd = o3d.io.read_point_cloud(ply_point_cloud.path)\n",
    "print(pcd)\n",
    "print(np.asarray(pcd.points))\n",
    "o3d.visualization.draw_geometries([pcd],\n",
    "                                  zoom=0.3412,\n",
    "                                  front=[0.4257, -0.2125, -0.8795],\n",
    "                                  lookat=[2.6172, 2.0475, 1.532],\n",
    "                                  up=[-0.0694, -0.9768, 0.2024])"
   ]
  },
  {
   "cell_type": "code",
   "execution_count": 2,
   "metadata": {},
   "outputs": [],
   "source": [
    "# Create empty point cloud\n",
    "# source: https://github.com/isl-org/Open3D/issues/986\n",
    "pcl = o3d.geometry.PointCloud()\n",
    "pcl.points = o3d.utility.Vector3dVector(np.random.randn(500,3))\n",
    "o3d.visualization.draw_geometries([pcl])"
   ]
  },
  {
   "cell_type": "code",
   "execution_count": 15,
   "metadata": {},
   "outputs": [
    {
     "name": "stdout",
     "output_type": "stream",
     "text": [
      "/home/arthur/open3d_data/extract/BunnyMesh/BunnyMesh.ply\n",
      "<class 'open3d.cpu.pybind.data.BunnyMesh'>\n",
      "alpha=0.030\n"
     ]
    }
   ],
   "source": [
    "\n",
    "bunny = o3d.data.BunnyMesh()\n",
    "# mesh = o3dtut.get_bunny_mesh()\n",
    "print(bunny.path)\n",
    "print(type(bunny))\n",
    "\n",
    "mesh = o3d.io.read_triangle_mesh(bunny.path)\n",
    "mesh.compute_vertex_normals()\n",
    "#o3d.visualization.draw_geometries([mesh])\n",
    "\n",
    "# pcd = o3d.geometry.sample_points_poisson_disk(750)\n",
    "# o3d.visualization.draw_geometries([pcd])\n",
    "# alpha = 0.03pcd\n",
    "# print(f\"alpha={alpha:.3f}\")\n",
    "# mesh = o3d.geometry.TriangleMesh.create_from_point_cloud_alpha_shape(pcd, alpha)\n",
    "# mesh.compute_vertex_normals()\n",
    "# o3d.visualization.draw_geometries([mesh], mesh_show_back_face=True)\n",
    "\n",
    "ply_point_cloud = o3d.data.PLYPointCloud()\n",
    "pcd = o3d.io.read_point_cloud(ply_point_cloud.path)\n",
    "\n",
    "alpha = 0.03\n",
    "print(f\"alpha={alpha:.3f}\")\n",
    "mesh = o3d.geometry.TriangleMesh.create_from_point_cloud_alpha_shape(pcd, alpha)\n",
    "mesh.compute_vertex_normals()\n",
    "o3d.visualization.draw_geometries([mesh], mesh_show_back_face=True)"
   ]
  },
  {
   "cell_type": "code",
   "execution_count": 3,
   "metadata": {},
   "outputs": [
    {
     "name": "stdout",
     "output_type": "stream",
     "text": [
      "/home/arthur/open3d_data/extract/BunnyMesh/BunnyMesh.ply\n",
      "<class 'open3d.cpu.pybind.data.BunnyMesh'>\n",
      "alpha=0.500\n",
      "alpha=0.136\n",
      "alpha=0.037\n",
      "alpha=0.010\n"
     ]
    }
   ],
   "source": [
    "bunny = o3d.data.BunnyMesh()\n",
    "print(bunny.path)\n",
    "print(type(bunny))\n",
    "\n",
    "mesh = o3d.io.read_triangle_mesh(bunny.path)\n",
    "mesh.compute_vertex_normals()\n",
    "\n",
    "ply_point_cloud = o3d.data.PLYPointCloud()\n",
    "pcd = o3d.io.read_point_cloud(ply_point_cloud.path)\n",
    "\n",
    "tetra_mesh, pt_map = o3d.geometry.TetraMesh.create_from_point_cloud(pcd)\n",
    "for alpha in np.logspace(np.log10(0.5), np.log10(0.01), num=4):\n",
    "    print(f\"alpha={alpha:.3f}\")\n",
    "    mesh = o3d.geometry.TriangleMesh.create_from_point_cloud_alpha_shape(\n",
    "        pcd, alpha, tetra_mesh, pt_map)\n",
    "    mesh.compute_vertex_normals()\n",
    "    o3d.visualization.draw_geometries([mesh], mesh_show_back_face=True)"
   ]
  },
  {
   "cell_type": "code",
   "execution_count": 5,
   "metadata": {},
   "outputs": [
    {
     "name": "stdout",
     "output_type": "stream",
     "text": [
      "TriangleMesh with 196133 points and 330807 triangles.\n",
      "alpha=0.500\n",
      "alpha=0.136\n",
      "alpha=0.037\n",
      "alpha=0.010\n"
     ]
    }
   ],
   "source": [
    "pcd = o3d.io.read_point_cloud(ply_point_cloud.path)\n",
    "bunny = o3d.data.BunnyMesh()\n",
    "# mesh = o3dtut.get_bunny_mesh()\n",
    "print(bunny.path)\n",
    "print(type(bunny))\n",
    "\n",
    "mesh = o3d.io.read_triangle_mesh(bunny.path)\n",
    "\n",
    "\n",
    "distances = pcd.compute_nearest_neighbor_distance()\n",
    "avg_dist = np.mean(distances)\n",
    "radius = 3 * avg_dist\n",
    "\n",
    "mesh = o3d.geometry.TriangleMesh.create_from_point_cloud_ball_pivoting( \\\n",
    "    pcd,o3d.utility.DoubleVector([radius, radius * 2]))\n",
    "\n",
    "mesh.compute_vertex_normals()\n",
    "print(mesh)\n",
    "\n",
    "ply_point_cloud = o3d.data.PLYPointCloud()\n",
    "\n",
    "tetra_mesh, pt_map = o3d.geometry.TetraMesh.create_from_point_cloud(pcd)\n",
    "for alpha in np.logspace(np.log10(0.5), np.log10(0.01), num=4):\n",
    "    print(f\"alpha={alpha:.3f}\")\n",
    "    mesh = o3d.geometry.TriangleMesh.create_from_point_cloud_alpha_shape(\n",
    "        pcd, alpha, tetra_mesh, pt_map)\n",
    "    mesh.compute_vertex_normals()\n",
    "    o3d.visualization.draw_geometries([mesh], mesh_show_back_face=True)"
   ]
  }
 ],
 "metadata": {
  "kernelspec": {
   "display_name": "Python 3.6.9 64-bit",
   "language": "python",
   "name": "python3"
  },
  "language_info": {
   "codemirror_mode": {
    "name": "ipython",
    "version": 3
   },
   "file_extension": ".py",
   "mimetype": "text/x-python",
   "name": "python",
   "nbconvert_exporter": "python",
   "pygments_lexer": "ipython3",
   "version": "3.6.9"
  },
  "orig_nbformat": 4,
  "vscode": {
   "interpreter": {
    "hash": "31f2aee4e71d21fbe5cf8b01ff0e069b9275f58929596ceb00d14d90e3e16cd6"
   }
  }
 },
 "nbformat": 4,
 "nbformat_minor": 2
}
