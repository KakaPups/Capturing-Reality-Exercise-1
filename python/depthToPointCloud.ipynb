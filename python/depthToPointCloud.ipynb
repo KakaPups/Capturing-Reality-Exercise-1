{
 "cells": [
  {
   "cell_type": "code",
   "execution_count": null,
   "id": "a2b1f015",
   "metadata": {},
   "outputs": [],
   "source": [
    "import open3d as o3d\n",
    "import numpy as np\n",
    "import matplotlib.pyplot as plt\n",
    "import os\n",
    "import sys\n",
    "import cv2\n",
    "\n",
    "# monkey patches visualization and provides helpers to load geometries\n",
    "sys.path.append('achteck-new2-part1/')\n",
    "print(os.getcwd())\n",
    "#from open3d import open3d_tutorial as o3dtut\n",
    "# change to True if you want to interact with the visualization windows\n",
    "#o3dtut.interactive = not \"CI\" in os.environ"
   ]
  },
  {
   "cell_type": "code",
   "execution_count": null,
   "id": "538bb031",
   "metadata": {},
   "outputs": [],
   "source": [
    "from pathlib import Path\n",
    "import numpy as np\n",
    "import struct\n",
    "\n",
    "def read_pfm(filename):\n",
    "    with Path(filename).open('rb') as pfm_file:\n",
    "\n",
    "        line1, line2, line3 = (pfm_file.readline().decode('latin-1').strip() for _ in range(3))\n",
    "        assert line1 in ('PF', 'Pf')\n",
    "        \n",
    "        channels = 3 if \"PF\" in line1 else 1\n",
    "        width, height = (int(s) for s in line2.split())\n",
    "        scale_endianess = float(line3)\n",
    "        bigendian = scale_endianess > 0\n",
    "        scale = abs(scale_endianess)\n",
    "\n",
    "        buffer = pfm_file.read()\n",
    "        samples = width * height * channels\n",
    "        assert len(buffer) == samples * 4\n",
    "        \n",
    "        fmt = f'{\"<>\"[bigendian]}{samples}f'\n",
    "        decoded = struct.unpack(fmt, buffer)\n",
    "        shape = (height, width, 3) if channels == 3 else (height, width)\n",
    "        return np.flipud(np.reshape(decoded, shape)) * scale\n",
    "\n",
    "depth_array = read_pfm(\"achteck-new2-part1/view_0000-depth-L2.pfm\")\n",
    "depth_array\n",
    "folder = 'achteck-new2-part1/'"
   ]
  },
  {
   "cell_type": "code",
   "execution_count": null,
   "id": "5a143ab1",
   "metadata": {},
   "outputs": [],
   "source": [
    "# Load in color and depth image to create the point cloud\n",
    "print(\"Read Redwood dataset\")\n",
    "color_raw = o3d.io.read_image(folder + \"view_0000-undist-L2.png\")\n",
    "#print(type(color_raw))\n",
    "#print(o3d.geometry.Image(depth_array))\n",
    "\n",
    "depth_raw = o3d.io.read_image(folder +\"achteck-new2-part1/view_0000-depth-L2.png\")\n",
    "#depth_raw = o3d.io.read_image(\"achteck-new2-part1/view_0000-depth-L2.pfm\")\n",
    "rgbd_image = o3d.geometry.RGBDImage.create_from_color_and_depth(color_raw, depth_raw)\n",
    "print(rgbd_image)"
   ]
  },
  {
   "cell_type": "code",
   "execution_count": null,
   "id": "f2707f3f",
   "metadata": {},
   "outputs": [],
   "source": [
    "# Plot the images\n",
    "plt.subplot(1, 2, 1)\n",
    "plt.title('Grayscale image')\n",
    "plt.imshow(rgbd_image.color)\n",
    "plt.subplot(1, 2, 2)\n",
    "plt.title('Depth image')\n",
    "plt.imshow(rgbd_image.depth)\n",
    "plt.show()"
   ]
  },
  {
   "cell_type": "code",
   "execution_count": null,
   "id": "5485adb2",
   "metadata": {},
   "outputs": [],
   "source": [
    "# Camera intrinsic parameters built into Open3D for Prime Sense\n",
    "camera_intrinsic = o3d.camera.PinholeCameraIntrinsic(\n",
    "        o3d.camera.PinholeCameraIntrinsicParameters.PrimeSenseDefault)"
   ]
  },
  {
   "cell_type": "code",
   "execution_count": null,
   "id": "d954ac8c",
   "metadata": {},
   "outputs": [],
   "source": [
    "# Create the point cloud from images and camera intrisic parameters\n",
    "pcd = o3d.geometry.PointCloud.create_from_rgbd_image(rgbd_image, camera_intrinsic)\n",
    "    \n",
    "# Flip it, otherwise the pointcloud will be upside down\n",
    "pcd.transform([[1, 0, 0, 0], [0, -1, 0, 0], [0, 0, -1, 0], [0, 0, 0, 1]])\n",
    "o3d.visualization.draw_geometries([pcd], zoom=0.5)"
   ]
  },
  {
   "cell_type": "code",
   "execution_count": null,
   "id": "8a8aa52c",
   "metadata": {},
   "outputs": [],
   "source": [
    "# Camera intrinsic parameters from camera used to get color and depth images - Camera Calibration\n",
    "cv_file = cv2.FileStorage()\n",
    "#cv_file.open('C:/Users/nhoei/ComputerVision/monocularDepth/cameraIntrinsic.xml', cv2.FileStorage_READ)\n",
    "intrinsic_params_file = '%sview_0000-cam.txt' % (folder)\n",
    "print(intrinsic_params_file)\n",
    "#print(open(intrinsic_params_file).read())\n",
    "cv_file.open(intrinsic_params_file, cv2.FileStorage_READ)\n",
    "\n",
    "camera_intrinsic = cv_file.getNode('intrinsic').mat()\n",
    "print(camera_intrinsic)"
   ]
  },
  {
   "cell_type": "code",
   "execution_count": null,
   "id": "1a85d238",
   "metadata": {},
   "outputs": [],
   "source": [
    "# Set the intrinsic camera parameters\n",
    "camera_intrinsic_o3d = o3d.camera.PinholeCameraIntrinsic(width=640, height=480, fx=camera_intrinsic[0][0],fy=camera_intrinsic[1][1], cx=camera_intrinsic[0][2], cy=camera_intrinsic[1][2])\n",
    "print(camera_intrinsic_o3d.intrinsic_matrix)"
   ]
  },
  {
   "cell_type": "code",
   "execution_count": null,
   "id": "045ce6be",
   "metadata": {},
   "outputs": [],
   "source": [
    "# Create the point cloud from images and camera intrisic parameters\n",
    "pcd = o3d.geometry.PointCloud.create_from_rgbd_image(rgbd_image, camera_intrinsic_o3d)\n",
    "    \n",
    "# Flip it, otherwise the pointcloud will be upside down\n",
    "pcd.transform([[1, 0, 0, 0], [0, -1, 0, 0], [0, 0, -1, 0], [0, 0, 0, 1]])\n",
    "o3d.visualization.draw_geometries([pcd], zoom=0.5)"
   ]
  },
  {
   "cell_type": "code",
   "execution_count": null,
   "id": "d5d5a1be",
   "metadata": {},
   "outputs": [],
   "source": [
    "# Load in the point cloud created from OpenCV to compared to Open3D\n",
    "opencv_pcd_path = \"C:/Users/nhoei/ComputerVision/monocularDepth/reconstructedMono.ply\"\n",
    "pcd = o3d.io.read_point_cloud(opencv_pcd_path)\n",
    "\n",
    "# Flip it, otherwise the pointcloud will be upside down\n",
    "pcd.transform([[1, 0, 0, 0], [0, -1, 0, 0], [0, 0, -1, 0], [0, 0, 0, 1]])\n",
    "o3d.visualization.draw_geometries([pcd], zoom=0.5)"
   ]
  }
 ],
 "metadata": {
  "kernelspec": {
   "display_name": "Python 3.6.9 64-bit",
   "language": "python",
   "name": "python3"
  },
  "language_info": {
   "codemirror_mode": {
    "name": "ipython",
    "version": 3
   },
   "file_extension": ".py",
   "mimetype": "text/x-python",
   "name": "python",
   "nbconvert_exporter": "python",
   "pygments_lexer": "ipython3",
   "version": "3.6.9"
  },
  "vscode": {
   "interpreter": {
    "hash": "31f2aee4e71d21fbe5cf8b01ff0e069b9275f58929596ceb00d14d90e3e16cd6"
   }
  }
 },
 "nbformat": 4,
 "nbformat_minor": 5
}
